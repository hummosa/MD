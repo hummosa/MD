{
 "cells": [
  {
   "cell_type": "code",
   "execution_count": 16,
   "metadata": {},
   "outputs": [],
   "source": [
    "import json\n",
    "import numpy as np\n",
    "import matplotlib.pyplot as plt\n",
    "from scipy import stats"
   ]
  },
  {
   "cell_type": "code",
   "execution_count": 102,
   "metadata": {},
   "outputs": [],
   "source": [
    "data_dir = \"/om2/group/halassa/PFCMD-ali-sabrina/011921_file-per-trial/by_trial\"\n",
    "s_trial = 0\n",
    "t_trial = 2999\n",
    "\n",
    "# each neuron's activity is a row; column index is trial number\n",
    "inpMD_trial_avgs = np.array([])\n",
    "rPFC_trial_avgs = np.array([])\n",
    "    \n",
    "for i in range(s_trial, t_trial+1):\n",
    "    with open(data_dir + \"/\" + str(i) + \".json\") as json_file:\n",
    "        data = json.load(json_file)\n",
    "        \n",
    "        inpMD = np.array(data[\"network_rates\"][\"MD_input\"])\n",
    "        inpMD_trial_avg = np.mean(inpMD, axis=0).reshape(-1,1)\n",
    "        rPFC = np.array(data[\"network_rates\"][\"r_PFC\"])\n",
    "        rPFC_trial_avg = np.mean(rPFC, axis=0).reshape(-1,1)\n",
    "        \n",
    "        if i == s_trial:\n",
    "            inpMD_trial_avgs = inpMD_trial_avg\n",
    "            rPFC_trial_avgs = rPFC_trial_avg\n",
    "        else:\n",
    "            inpMD_trial_avgs = np.hstack((inpMD_trial_avgs, inpMD_trial_avg))\n",
    "            rPFC_trial_avgs = np.hstack((rPFC_trial_avgs, rPFC_trial_avg))\n",
    "        "
   ]
  },
  {
   "cell_type": "code",
   "execution_count": 156,
   "metadata": {},
   "outputs": [
    {
     "name": "stdout",
     "output_type": "stream",
     "text": [
      "50/500\n"
     ]
    },
    {
     "name": "stderr",
     "output_type": "stream",
     "text": [
      "/cm/shared/openmind/anaconda/2.5.0/lib/python3.5/site-packages/matplotlib/pyplot.py:516: RuntimeWarning: More than 20 figures have been opened. Figures created through the pyplot interface (`matplotlib.pyplot.figure`) are retained until explicitly closed and may consume too much memory. (To control this warning, see the rcParam `figure.max_open_warning`).\n",
      "  max_open_warning, RuntimeWarning)\n"
     ]
    },
    {
     "name": "stdout",
     "output_type": "stream",
     "text": [
      "65/500\n",
      "80/500\n",
      "95/500\n",
      "110/500\n",
      "125/500\n",
      "140/500\n",
      "155/500\n",
      "170/500\n",
      "185/500\n",
      "200/500\n",
      "215/500\n",
      "230/500\n",
      "245/500\n",
      "260/500\n",
      "275/500\n",
      "290/500\n",
      "305/500\n",
      "320/500\n",
      "335/500\n",
      "350/500\n",
      "365/500\n",
      "380/500\n",
      "395/500\n",
      "410/500\n",
      "425/500\n",
      "440/500\n",
      "455/500\n",
      "470/500\n",
      "485/500\n"
     ]
    }
   ],
   "source": [
    "def correlation(x,y):\n",
    "    linear_model = np.polyfit(x, y, 1)\n",
    "    linear_model_fn = np.poly1d(linear_model)\n",
    "    x_s = np.arange(min(x), max(x))\n",
    "    corr, _ = stats.pearsonr(x, y)\n",
    "    return (x_s, linear_model_fn(x_s), corr)\n",
    "\n",
    "def running_correlation(x,y,bin_size=200):\n",
    "    corrs = []\n",
    "    \n",
    "    for i in range(len(x) - bin_size):\n",
    "        bin_x = x[i:i+bin_size]\n",
    "        bin_y = y[i:i+bin_size]\n",
    "        (_, _, corr) = correlation(bin_x, bin_y)\n",
    "        corrs.append(corr)\n",
    "    return corrs\n",
    "\n",
    "save_dir = \"/om2/group/halassa/PFCMD-ali-sabrina/011921_file-per-trial/plots/pearson/\"\n",
    "plt.clf()\n",
    "for i in range(50, len(rPFC_trial_avgs[:]), 15):\n",
    "    print(str(i) + \"/\" + str(len(rPFC_trial_avgs[:])))\n",
    "    \n",
    "    fig, ax = plt.subplots(5, 2, figsize=(15, 10))\n",
    "    fig.tight_layout(h_pad=3)\n",
    "\n",
    "    # == Plot Z-scored == \n",
    "\n",
    "    s = 2000\n",
    "    t = 2499\n",
    "\n",
    "    z_rPFCi = stats.zscore(rPFC_trial_avgs[i,s:t])\n",
    "    z_inpMD0 = stats.zscore(inpMD_trial_avgs[0,s:t])\n",
    "    z_inpMD1 = stats.zscore(inpMD_trial_avgs[1,s:t])\n",
    "\n",
    "    d_rPFCi = np.diff(z_rPFCi)\n",
    "    d_inpMD0 = np.diff(z_inpMD0)\n",
    "    d_inpMD1 = np.diff(z_inpMD1)\n",
    "\n",
    "    # MD0 and rPFC lines\n",
    "    ax[0,0].plot(z_inpMD0, c='blue')\n",
    "    ax[0,0].plot(z_rPFCi, c='grey')\n",
    "    ax[0,0].set_xticklabels(ax[0,0].get_xticks() + s)\n",
    "    ax[0,0].set_title('Trials avg activity')\n",
    "    ax[0,0].set_xlabel('trial #')\n",
    "    ax[0,0].set_ylabel('blue=MD0, grey=PFC')\n",
    "\n",
    "    # MD1 and rPFC lines\n",
    "    ax[2,0].plot(z_inpMD1, c='orange')\n",
    "    ax[2,0].plot(z_rPFCi, c='grey')\n",
    "    ax[2,0].set_xticklabels(ax[2,0].get_xticks() + s)\n",
    "    ax[2,0].set_title('Trials avg activity')\n",
    "    ax[2,0].set_xlabel('trial #')\n",
    "    ax[2,0].set_ylabel('orange=MD1, grey=PFC')\n",
    "\n",
    "    # MD0 and rPFC correlation\n",
    "    ax[0,1].scatter(z_rPFCi, z_inpMD0, color='blue', linewidths=0.0)\n",
    "    (x_s, y_s, corr) = correlation(z_rPFCi, z_inpMD0)\n",
    "    ax[0,1].plot(x_s, y_s, color=\"black\")\n",
    "    ax[0,1].set_xlabel('PFC activity')\n",
    "    ax[0,1].set_ylabel('MD0 activity')\n",
    "    ax[0,1].set_title('MD0 vs rPFC (avg trial activity), r=%.3f' % corr)\n",
    "\n",
    "    # MD1 and rPFC correlation\n",
    "    ax[2,1].scatter(z_rPFCi, z_inpMD1, color='orange', linewidths=0.0)\n",
    "    (x_s, y_s, corr) = correlation(z_rPFCi, z_inpMD1)\n",
    "    ax[2,1].plot(x_s, y_s, color=\"black\")\n",
    "    ax[2,1].set_xlabel('PFC activity')\n",
    "    ax[2,1].set_ylabel('MD1 activity')\n",
    "    ax[2,1].set_title('MD1 vs rPFC (avg trial activity), r=%.3f' % corr)\n",
    "\n",
    "    # MD0 and rPFC trial deltas lines\n",
    "    ax[1,0].plot(d_inpMD0, c='blue')\n",
    "    ax[1,0].plot(d_rPFCi, c='grey')\n",
    "    ax[1,0].set_xticklabels(ax[1,0].get_xticks() + s)\n",
    "    ax[1,0].set_title('Deltas of consecutivy trials avg activity')\n",
    "    ax[1,0].set_xlabel('trial #')\n",
    "    ax[1,0].set_ylabel('blue=MD0, grey=PFC')\n",
    "\n",
    "    # MD1 and rPFC trial deltas lines\n",
    "    ax[3,0].plot(d_inpMD1, c='orange')\n",
    "    ax[3,0].plot(d_rPFCi, c='grey')\n",
    "    ax[3,0].set_xticklabels(ax[3,0].get_xticks() + s)\n",
    "    ax[3,0].set_title('Deltas of consecutivy trials avg activity')\n",
    "    ax[3,0].set_xlabel('trial #')\n",
    "    ax[3,0].set_ylabel('orange=MD1, grey=PFC')\n",
    "\n",
    "    # MD0 and rPFC trial deltas correlation\n",
    "    ax[1,1].scatter(d_rPFCi, d_inpMD0, color='blue', linewidths=0.0)\n",
    "    (x_s, y_s, corr) = correlation(d_rPFCi, d_inpMD0)\n",
    "    ax[1,1].plot(x_s, y_s, color=\"black\")\n",
    "    ax[1,1].set_xlabel('PFC activity (trial deltas)')\n",
    "    ax[1,1].set_ylabel('MD0 activity (trial deltas)')\n",
    "    ax[1,1].set_title('MD0 vs rPFC (deltas of consecutive trials avg activity), r=%.3f' % corr)\n",
    "\n",
    "    # MD1 and rPFC trial deltas correlation\n",
    "    ax[3,1].scatter(d_rPFCi, d_inpMD1, color='orange', linewidths=0.0)\n",
    "    (x_s, y_s, corr) = correlation(d_rPFCi, d_inpMD1)\n",
    "    ax[3,1].plot(x_s, y_s, color=\"black\")\n",
    "    ax[3,1].set_xlabel('PFC activity (trial deltas)')\n",
    "    ax[3,1].set_ylabel('MD1 activity (trial deltas)')\n",
    "    ax[3,1].set_title('MD1 vs rPFC (deltas of consecutive trials avg activity), r=%.3f' % corr)\n",
    "\n",
    "    corrs_x = stats.zscore(rPFC_trial_avgs[i,0:3000])\n",
    "    corrs_y0 = stats.zscore(inpMD_trial_avgs[0,0:3000])\n",
    "    corrs_y1 = stats.zscore(inpMD_trial_avgs[1,0:3000])\n",
    "\n",
    "    corrs0_50 = running_correlation(corrs_x, corrs_y0, 50)\n",
    "    corrs0_150 = running_correlation(corrs_x, corrs_y0, 150)\n",
    "    corrs0_300 = running_correlation(corrs_x, corrs_y0, 300)\n",
    "    ax[4,0].plot(corrs0_50, color='lightsteelblue', label='bin=50')\n",
    "    ax[4,0].plot(corrs0_150, color='dodgerblue', label='bin=150')\n",
    "    ax[4,0].plot(corrs0_300, color='blue', label='bin=300')\n",
    "    ax[4,0].set_title('MD0 vs rPFC Pearson corr coeff over trials')\n",
    "    ax[4,0].set_xlabel('trial #')\n",
    "    ax[4,0].set_ylabel('bin size = 50, 150, 300')\n",
    "\n",
    "    corrs1_50 = running_correlation(corrs_x, corrs_y1, 50)\n",
    "    corrs1_150 = running_correlation(corrs_x, corrs_y1, 150)\n",
    "    corrs1_300 = running_correlation(corrs_x, corrs_y1, 300)\n",
    "    ax[4,1].plot(corrs1_50, color='moccasin', label='bin=50')\n",
    "    ax[4,1].plot(corrs1_150, color='gold', label='bin=150')\n",
    "    ax[4,1].plot(corrs1_300, color='orange', label='bin=300')\n",
    "    ax[4,1].set_title('MD1 vs rPFC Pearson corr coeff over trials')\n",
    "    ax[4,1].set_xlabel('trial #')\n",
    "    ax[4,1].set_ylabel('bin size = 50, 150, 300')\n",
    "\n",
    "    fig.suptitle('Analysis of avg trial activity (z-scored): trials 2000 to 2500')\n",
    "    plt.subplots_adjust(top=0.925)\n",
    "    \n",
    "    plt.savefig(save_dir + str(i) + \".png\" )\n",
    "    plt.clf()\n"
   ]
  },
  {
   "cell_type": "code",
   "execution_count": 39,
   "metadata": {},
   "outputs": [
    {
     "name": "stderr",
     "output_type": "stream",
     "text": [
      "/cm/shared/openmind/anaconda/2.5.0/lib/python3.5/site-packages/ipykernel_launcher.py:5: VisibleDeprecationWarning: boolean index did not match indexed array along dimension 1; dimension is 301 but corresponding boolean dimension is 41\n",
      "  \"\"\"\n"
     ]
    },
    {
     "ename": "IndexError",
     "evalue": "index 2339 is out of bounds for axis 0 with size 500",
     "output_type": "error",
     "traceback": [
      "\u001b[0;31m---------------------------------------------------------------------------\u001b[0m",
      "\u001b[0;31mIndexError\u001b[0m                                Traceback (most recent call last)",
      "\u001b[0;32m<ipython-input-39-fb8833799acf>\u001b[0m in \u001b[0;36m<module>\u001b[0;34m()\u001b[0m\n\u001b[1;32m      3\u001b[0m \u001b[0mnmatch_idxs\u001b[0m \u001b[0;34m=\u001b[0m \u001b[0mnp\u001b[0m\u001b[0;34m.\u001b[0m\u001b[0marray\u001b[0m\u001b[0;34m(\u001b[0m\u001b[0;34m[\u001b[0m\u001b[0;32mnot\u001b[0m \u001b[0mx\u001b[0m \u001b[0;32mfor\u001b[0m \u001b[0mx\u001b[0m \u001b[0;32min\u001b[0m \u001b[0mis_match_trial\u001b[0m\u001b[0;34m]\u001b[0m\u001b[0;34m)\u001b[0m\u001b[0;34m\u001b[0m\u001b[0m\n\u001b[1;32m      4\u001b[0m \u001b[0;34m\u001b[0m\u001b[0m\n\u001b[0;32m----> 5\u001b[0;31m \u001b[0mprint\u001b[0m\u001b[0;34m(\u001b[0m\u001b[0mnp\u001b[0m\u001b[0;34m.\u001b[0m\u001b[0msum\u001b[0m\u001b[0;34m(\u001b[0m\u001b[0mmatch_idxs\u001b[0m\u001b[0;34m)\u001b[0m\u001b[0;34m,\u001b[0m \u001b[0mlen\u001b[0m\u001b[0;34m(\u001b[0m\u001b[0mtrial_means_PFC\u001b[0m\u001b[0;34m[\u001b[0m\u001b[0mi\u001b[0m\u001b[0;34m,\u001b[0m\u001b[0mmatch_idxs\u001b[0m\u001b[0;34m]\u001b[0m\u001b[0;34m)\u001b[0m\u001b[0;34m)\u001b[0m\u001b[0;34m\u001b[0m\u001b[0m\n\u001b[0m\u001b[1;32m      6\u001b[0m \u001b[0mprint\u001b[0m\u001b[0;34m(\u001b[0m\u001b[0mnp\u001b[0m\u001b[0;34m.\u001b[0m\u001b[0msum\u001b[0m\u001b[0;34m(\u001b[0m\u001b[0mnmatch_idxs\u001b[0m\u001b[0;34m)\u001b[0m\u001b[0;34m,\u001b[0m \u001b[0mlen\u001b[0m\u001b[0;34m(\u001b[0m\u001b[0mtrial_means_PFC\u001b[0m\u001b[0;34m[\u001b[0m\u001b[0mi\u001b[0m\u001b[0;34m,\u001b[0m\u001b[0mnmatch_idxs\u001b[0m\u001b[0;34m]\u001b[0m\u001b[0;34m)\u001b[0m\u001b[0;34m)\u001b[0m\u001b[0;34m\u001b[0m\u001b[0m\n\u001b[1;32m      7\u001b[0m \u001b[0;34m\u001b[0m\u001b[0m\n",
      "\u001b[0;31mIndexError\u001b[0m: index 2339 is out of bounds for axis 0 with size 500"
     ]
    }
   ],
   "source": [
    "save_dir = \"/om2/group/halassa/PFCMD-ali-sabrina/011921_file-per-trial/plots/PFC-MD-scatter/\"\n",
    "match_idxs = np.array(is_match_trial)\n",
    "nmatch_idxs = np.array([not x for x in is_match_trial])\n",
    "\n",
    "print(np.sum(match_idxs), len(trial_means_PFC[i,match_idxs]))\n",
    "print(np.sum(nmatch_idxs), len(trial_means_PFC[i,nmatch_idxs]))\n",
    "\n",
    "plt.clf()\n",
    "for i in range(50, len(trial_means_PFC[:]), 15):\n",
    "    fig, ax = plt.subplots(3, 3, figsize=(15, 8))\n",
    "    \n",
    "    # Plot MD vs PFC activity\n",
    "    ax[0,0].scatter(trial_means_MD[0,:], trial_means_PFC[i,:], s=15, c='blue', linewidths=0.0)\n",
    "    ax[0,0].scatter(trial_means_MD[1,:], trial_means_PFC[i,:], s=15, c='orange', linewidths=0.0)\n",
    "    ax[0,0].set_ylabel(\"mean(PFC neuron activity)\")\n",
    "    # Plot PFC activity over trials\n",
    "    ax[0,1].plot(trial_means_PFC[i,:], c=\"grey\")\n",
    "    ax[0,1].set_xlabel(\"trial # + 2000\")\n",
    "    ax[0,1].set_ylabel(\"PFC neuron avg activity\")\n",
    "    # Plot MD activity over trials\n",
    "    ax[0,2].plot(trial_means_MD[0,:], c=\"blue\")\n",
    "    ax[0,2].plot(trial_means_MD[1,:], c=\"orange\")\n",
    "    ax[0,2].set_xlabel(\"trial # + 2000\")\n",
    "    ax[0,2].set_ylabel(\"MD neuron avg activity\")\n",
    "    \n",
    "    # Match trials - MD vs PFC activity\n",
    "    ax[1,0].scatter(trial_means_MD[0,match_idxs], trial_means_PFC[i,match_idxs], s=15, c='blue', linewidths=0.0)\n",
    "    ax[1,0].scatter(trial_means_MD[1,match_idxs], trial_means_PFC[i,match_idxs], s=15, c='orange', linewidths=0.0)\n",
    "    ax[1,0].set_ylabel(\"Match trials\")\n",
    "    # Match trials - PFC activity\n",
    "    ax[1,1].plot(trial_means_PFC[i,match_idxs], c=\"grey\")\n",
    "    # Match trials - MD activity\n",
    "    ax[1,2].plot(trial_means_MD[0,match_idxs], c=\"blue\")\n",
    "    ax[1,2].plot(trial_means_MD[1,match_idxs], c=\"orange\")\n",
    "    \n",
    "    # Non-match trials - MD vs PFC activity\n",
    "    ax[2,0].scatter(trial_means_MD[0,nmatch_idxs], trial_means_PFC[i,nmatch_idxs], s=15, c='blue', linewidths=0.0)\n",
    "    ax[2,0].scatter(trial_means_MD[1,nmatch_idxs], trial_means_PFC[i,nmatch_idxs], s=15, c='orange', linewidths=0.0)\n",
    "    ax[2,0].set_ylabel(\"Non-match trials\")\n",
    "    ax[0,0].set_xlabel(\"mean(MD neuron activity)\")\n",
    "    # Non-match trials - PFC activity\n",
    "    ax[2,1].plot(trial_means_PFC[i,nmatch_idxs], c=\"grey\")\n",
    "    ax[0,1].set_xlabel(\"trial # + 2000\")\n",
    "    # Non-match trials - MD activity\n",
    "    ax[2,2].plot(trial_means_MD[0,nmatch_idxs], c=\"blue\")\n",
    "    ax[2,2].plot(trial_means_MD[1,nmatch_idxs], c=\"orange\")\n",
    "    ax[0,1].set_xlabel(\"trial # + 2000\")\n",
    "    \n",
    "    # Normalize y-lims\n",
    "    _, top00 = ax[0,0].get_ylim()\n",
    "    _, top01 = ax[0,1].get_ylim()\n",
    "    _, top02 = ax[0,2].get_ylim()\n",
    "    ylim0 = max([top00, top01, top02])\n",
    "    print(ylim0)\n",
    "    ax[0,0].set_ylim(top=ylim0)\n",
    "    ax[0,1].set_ylim(top=ylim0)\n",
    "    ax[0,2].set_ylim(top=ylim0)\n",
    "  \n",
    "    plt.show()\n",
    "    break\n",
    "#     plt.savefig(save_dir + str(i) + \".png\" )\n",
    "#     plt.clf()\n"
   ]
  },
  {
   "cell_type": "code",
   "execution_count": 149,
   "metadata": {},
   "outputs": [
    {
     "data": {
      "text/plain": [
       "<matplotlib.figure.Figure at 0x2b96cedcd278>"
      ]
     },
     "metadata": {},
     "output_type": "display_data"
    },
    {
     "data": {
      "text/plain": [
       "<matplotlib.figure.Figure at 0x2b96ceb543c8>"
      ]
     },
     "metadata": {},
     "output_type": "display_data"
    },
    {
     "data": {
      "text/plain": [
       "<matplotlib.figure.Figure at 0x2b96cf0bb7f0>"
      ]
     },
     "metadata": {},
     "output_type": "display_data"
    },
    {
     "data": {
      "text/plain": [
       "<matplotlib.figure.Figure at 0x2b96ced3d828>"
      ]
     },
     "metadata": {},
     "output_type": "display_data"
    },
    {
     "data": {
      "text/plain": [
       "<matplotlib.figure.Figure at 0x2b96cf300d68>"
      ]
     },
     "metadata": {},
     "output_type": "display_data"
    },
    {
     "data": {
      "text/plain": [
       "<matplotlib.figure.Figure at 0x2b96a9a4e0f0>"
      ]
     },
     "metadata": {},
     "output_type": "display_data"
    },
    {
     "data": {
      "text/plain": [
       "<matplotlib.figure.Figure at 0x2b96c9d37cf8>"
      ]
     },
     "metadata": {},
     "output_type": "display_data"
    },
    {
     "data": {
      "text/plain": [
       "<matplotlib.figure.Figure at 0x2b96ceb9c278>"
      ]
     },
     "metadata": {},
     "output_type": "display_data"
    },
    {
     "data": {
      "text/plain": [
       "<matplotlib.figure.Figure at 0x2b96cf00e208>"
      ]
     },
     "metadata": {},
     "output_type": "display_data"
    },
    {
     "data": {
      "text/plain": [
       "<matplotlib.figure.Figure at 0x2b96ced79358>"
      ]
     },
     "metadata": {},
     "output_type": "display_data"
    },
    {
     "data": {
      "text/plain": [
       "<matplotlib.figure.Figure at 0x2b96c9c5ed30>"
      ]
     },
     "metadata": {},
     "output_type": "display_data"
    },
    {
     "data": {
      "text/plain": [
       "<matplotlib.figure.Figure at 0x2b96cf33a4e0>"
      ]
     },
     "metadata": {},
     "output_type": "display_data"
    },
    {
     "data": {
      "text/plain": [
       "<matplotlib.figure.Figure at 0x2b96ceb54c88>"
      ]
     },
     "metadata": {},
     "output_type": "display_data"
    },
    {
     "data": {
      "text/plain": [
       "<matplotlib.figure.Figure at 0x2b96cf2b8780>"
      ]
     },
     "metadata": {},
     "output_type": "display_data"
    },
    {
     "data": {
      "text/plain": [
       "<matplotlib.figure.Figure at 0x2b96c9c93e48>"
      ]
     },
     "metadata": {},
     "output_type": "display_data"
    },
    {
     "data": {
      "text/plain": [
       "<matplotlib.figure.Figure at 0x2b96cf338dd8>"
      ]
     },
     "metadata": {},
     "output_type": "display_data"
    },
    {
     "data": {
      "text/plain": [
       "<matplotlib.figure.Figure at 0x2b96ca2012e8>"
      ]
     },
     "metadata": {},
     "output_type": "display_data"
    },
    {
     "data": {
      "text/plain": [
       "<matplotlib.figure.Figure at 0x2b96ceffa2e8>"
      ]
     },
     "metadata": {},
     "output_type": "display_data"
    },
    {
     "data": {
      "text/plain": [
       "<matplotlib.figure.Figure at 0x2b96c9c8ea20>"
      ]
     },
     "metadata": {},
     "output_type": "display_data"
    },
    {
     "data": {
      "text/plain": [
       "<matplotlib.figure.Figure at 0x2b96cf0ad390>"
      ]
     },
     "metadata": {},
     "output_type": "display_data"
    },
    {
     "data": {
      "text/plain": [
       "<matplotlib.figure.Figure at 0x2b96a9834b38>"
      ]
     },
     "metadata": {},
     "output_type": "display_data"
    },
    {
     "data": {
      "text/plain": [
       "<matplotlib.figure.Figure at 0x2b96ced79e48>"
      ]
     },
     "metadata": {},
     "output_type": "display_data"
    },
    {
     "data": {
      "text/plain": [
       "<matplotlib.figure.Figure at 0x2b96cf010240>"
      ]
     },
     "metadata": {},
     "output_type": "display_data"
    },
    {
     "data": {
      "text/plain": [
       "<matplotlib.figure.Figure at 0x2b96cf2dae80>"
      ]
     },
     "metadata": {},
     "output_type": "display_data"
    },
    {
     "data": {
      "text/plain": [
       "<matplotlib.figure.Figure at 0x2b96c9c694a8>"
      ]
     },
     "metadata": {},
     "output_type": "display_data"
    },
    {
     "data": {
      "text/plain": [
       "<matplotlib.figure.Figure at 0x2b96ceceec88>"
      ]
     },
     "metadata": {},
     "output_type": "display_data"
    },
    {
     "data": {
      "text/plain": [
       "<matplotlib.figure.Figure at 0x2b96cef94cf8>"
      ]
     },
     "metadata": {},
     "output_type": "display_data"
    },
    {
     "data": {
      "text/plain": [
       "<matplotlib.figure.Figure at 0x2b96cef0b4a8>"
      ]
     },
     "metadata": {},
     "output_type": "display_data"
    },
    {
     "data": {
      "text/plain": [
       "<matplotlib.figure.Figure at 0x2b96cebf0898>"
      ]
     },
     "metadata": {},
     "output_type": "display_data"
    },
    {
     "data": {
      "text/plain": [
       "<matplotlib.figure.Figure at 0x2b96cf385c50>"
      ]
     },
     "metadata": {},
     "output_type": "display_data"
    },
    {
     "data": {
      "text/plain": [
       "<matplotlib.figure.Figure at 0x2b96a9a3b668>"
      ]
     },
     "metadata": {},
     "output_type": "display_data"
    },
    {
     "data": {
      "text/plain": [
       "<matplotlib.figure.Figure at 0x2b96cf116978>"
      ]
     },
     "metadata": {},
     "output_type": "display_data"
    },
    {
     "data": {
      "text/plain": [
       "<matplotlib.figure.Figure at 0x2b96c9f0d048>"
      ]
     },
     "metadata": {},
     "output_type": "display_data"
    },
    {
     "data": {
      "text/plain": [
       "<matplotlib.figure.Figure at 0x2b96abfb7d30>"
      ]
     },
     "metadata": {},
     "output_type": "display_data"
    },
    {
     "data": {
      "text/plain": [
       "<matplotlib.figure.Figure at 0x2b96cef0d780>"
      ]
     },
     "metadata": {},
     "output_type": "display_data"
    },
    {
     "data": {
      "image/png": "[encoded data removed]",
      "text/plain": [
       "<matplotlib.figure.Figure at 0x2b96cf2566d8>"
      ]
     },
     "metadata": {},
     "output_type": "display_data"
    }
   ],
   "source": [
    "# Why is this the case?\n",
    "plt.plot(trial_means_MD[0,:])\n",
    "plt.plot(trial_means_MD[1,:])\n",
    "plt.show()"
   ]
  },
  {
   "cell_type": "code",
   "execution_count": 23,
   "metadata": {
    "collapsed": true
   },
   "outputs": [],
   "source": [
    "plt.close()"
   ]
  },
  {
   "cell_type": "code",
   "execution_count": null,
   "metadata": {
    "collapsed": true
   },
   "outputs": [],
   "source": []
  }
 ],
 "metadata": {
  "kernelspec": {
   "display_name": "Python 3",
   "language": "python",
   "name": "python3"
  },
  "language_info": {
   "codemirror_mode": {
    "name": "ipython",
    "version": 3
   },
   "file_extension": ".py",
   "mimetype": "text/x-python",
   "name": "python",
   "nbconvert_exporter": "python",
   "pygments_lexer": "ipython3",
   "version": "3.5.4"
  }
 },
 "nbformat": 4,
 "nbformat_minor": 2
}
